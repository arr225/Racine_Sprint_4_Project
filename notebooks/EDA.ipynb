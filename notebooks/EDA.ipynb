{
 "cells": [
  {
   "cell_type": "markdown",
   "metadata": {},
   "source": [
    "# Sprint 4: Project 4 - Exploring Used Vehicle Pricing:\n",
    "\n",
    "*Introduction:*\n",
    "\n",
    "Within this notebook I will perform some basic exploratory data analysis of the dataset for used vehicles for sale, as well as clean & process the data for later use. Based on my findings I will build some graphs & reference my work here to build a web app to display some results. My goal is to group data appropriately so it can be used to show vehicles by price based on certain attributes. "
   ]
  },
  {
   "cell_type": "code",
   "execution_count": 1,
   "metadata": {},
   "outputs": [],
   "source": [
    "# Loading all the libraries\n",
    "\n",
    "import pandas as pd\n",
    "import numpy as np\n",
    "\n",
    "import math as mt\n",
    "\n",
    "from scipy import stats as st \n",
    "from scipy.stats import norm \n",
    "from math import factorial\n",
    "from matplotlib import pyplot as plt\n",
    "import scipy.stats as stats\n",
    "import plotly.express as px\n"
   ]
  },
  {
   "cell_type": "code",
   "execution_count": 2,
   "metadata": {},
   "outputs": [
    {
     "name": "stdout",
     "output_type": "stream",
     "text": [
      "<class 'pandas.core.frame.DataFrame'>\n",
      "RangeIndex: 51525 entries, 0 to 51524\n",
      "Data columns (total 13 columns):\n",
      " #   Column        Non-Null Count  Dtype  \n",
      "---  ------        --------------  -----  \n",
      " 0   price         51525 non-null  int64  \n",
      " 1   model_year    47906 non-null  float64\n",
      " 2   model         51525 non-null  object \n",
      " 3   condition     51525 non-null  object \n",
      " 4   cylinders     46265 non-null  float64\n",
      " 5   fuel          51525 non-null  object \n",
      " 6   odometer      43633 non-null  float64\n",
      " 7   transmission  51525 non-null  object \n",
      " 8   type          51525 non-null  object \n",
      " 9   paint_color   42258 non-null  object \n",
      " 10  is_4wd        25572 non-null  float64\n",
      " 11  date_posted   51525 non-null  object \n",
      " 12  days_listed   51525 non-null  int64  \n",
      "dtypes: float64(4), int64(2), object(7)\n",
      "memory usage: 5.1+ MB\n"
     ]
    }
   ],
   "source": [
    "\n",
    "# Load the dataset\n",
    "\n",
    "df_vehicles = pd.read_csv('../vehicles_us.csv')\n",
    "df_vehicles.info()"
   ]
  },
  {
   "cell_type": "markdown",
   "metadata": {},
   "source": [
    "**Student Note:** The 'model_year' needs to be converted to integers since years are not floats. Under 'type' SUV is in all caps, will need to make this lowercase incase there's not consistency with capitalization throught the dataset. 'is_4wd' should be changed to Boolean. 'Odometer' can be changed to integer. 'date_posted' is currently an object but needs to be converted to datatime data type. There seem to be some missing values as well. I will address these by finding the median per column & filling NaN values with the median. "
   ]
  },
  {
   "cell_type": "code",
   "execution_count": 3,
   "metadata": {},
   "outputs": [],
   "source": [
    "# Convert all values to lowercase within the 'type' column\n",
    "# This will help me deal with any duplicate rows later\n",
    "\n",
    "df_vehicles['type'] = df_vehicles['type'].str.lower()"
   ]
  },
  {
   "cell_type": "code",
   "execution_count": 4,
   "metadata": {},
   "outputs": [
    {
     "data": {
      "text/html": [
       "<div>\n",
       "<style scoped>\n",
       "    .dataframe tbody tr th:only-of-type {\n",
       "        vertical-align: middle;\n",
       "    }\n",
       "\n",
       "    .dataframe tbody tr th {\n",
       "        vertical-align: top;\n",
       "    }\n",
       "\n",
       "    .dataframe thead th {\n",
       "        text-align: right;\n",
       "    }\n",
       "</style>\n",
       "<table border=\"1\" class=\"dataframe\">\n",
       "  <thead>\n",
       "    <tr style=\"text-align: right;\">\n",
       "      <th></th>\n",
       "      <th>price</th>\n",
       "      <th>model_year</th>\n",
       "      <th>model</th>\n",
       "      <th>condition</th>\n",
       "      <th>cylinders</th>\n",
       "      <th>fuel</th>\n",
       "      <th>odometer</th>\n",
       "      <th>transmission</th>\n",
       "      <th>type</th>\n",
       "      <th>paint_color</th>\n",
       "      <th>is_4wd</th>\n",
       "      <th>date_posted</th>\n",
       "      <th>days_listed</th>\n",
       "      <th>manufacturer</th>\n",
       "    </tr>\n",
       "  </thead>\n",
       "  <tbody>\n",
       "    <tr>\n",
       "      <th>0</th>\n",
       "      <td>9400</td>\n",
       "      <td>2011.0</td>\n",
       "      <td>bmw x5</td>\n",
       "      <td>good</td>\n",
       "      <td>6.0</td>\n",
       "      <td>gas</td>\n",
       "      <td>145000.0</td>\n",
       "      <td>automatic</td>\n",
       "      <td>suv</td>\n",
       "      <td>NaN</td>\n",
       "      <td>1.0</td>\n",
       "      <td>2018-06-23</td>\n",
       "      <td>19</td>\n",
       "      <td>bmw</td>\n",
       "    </tr>\n",
       "    <tr>\n",
       "      <th>1</th>\n",
       "      <td>25500</td>\n",
       "      <td>NaN</td>\n",
       "      <td>ford f-150</td>\n",
       "      <td>good</td>\n",
       "      <td>6.0</td>\n",
       "      <td>gas</td>\n",
       "      <td>88705.0</td>\n",
       "      <td>automatic</td>\n",
       "      <td>pickup</td>\n",
       "      <td>white</td>\n",
       "      <td>1.0</td>\n",
       "      <td>2018-10-19</td>\n",
       "      <td>50</td>\n",
       "      <td>ford</td>\n",
       "    </tr>\n",
       "    <tr>\n",
       "      <th>2</th>\n",
       "      <td>5500</td>\n",
       "      <td>2013.0</td>\n",
       "      <td>hyundai sonata</td>\n",
       "      <td>like new</td>\n",
       "      <td>4.0</td>\n",
       "      <td>gas</td>\n",
       "      <td>110000.0</td>\n",
       "      <td>automatic</td>\n",
       "      <td>sedan</td>\n",
       "      <td>red</td>\n",
       "      <td>NaN</td>\n",
       "      <td>2019-02-07</td>\n",
       "      <td>79</td>\n",
       "      <td>hyundai</td>\n",
       "    </tr>\n",
       "    <tr>\n",
       "      <th>3</th>\n",
       "      <td>1500</td>\n",
       "      <td>2003.0</td>\n",
       "      <td>ford f-150</td>\n",
       "      <td>fair</td>\n",
       "      <td>8.0</td>\n",
       "      <td>gas</td>\n",
       "      <td>NaN</td>\n",
       "      <td>automatic</td>\n",
       "      <td>pickup</td>\n",
       "      <td>NaN</td>\n",
       "      <td>NaN</td>\n",
       "      <td>2019-03-22</td>\n",
       "      <td>9</td>\n",
       "      <td>ford</td>\n",
       "    </tr>\n",
       "    <tr>\n",
       "      <th>4</th>\n",
       "      <td>14900</td>\n",
       "      <td>2017.0</td>\n",
       "      <td>chrysler 200</td>\n",
       "      <td>excellent</td>\n",
       "      <td>4.0</td>\n",
       "      <td>gas</td>\n",
       "      <td>80903.0</td>\n",
       "      <td>automatic</td>\n",
       "      <td>sedan</td>\n",
       "      <td>black</td>\n",
       "      <td>NaN</td>\n",
       "      <td>2019-04-02</td>\n",
       "      <td>28</td>\n",
       "      <td>chrysler</td>\n",
       "    </tr>\n",
       "    <tr>\n",
       "      <th>5</th>\n",
       "      <td>14990</td>\n",
       "      <td>2014.0</td>\n",
       "      <td>chrysler 300</td>\n",
       "      <td>excellent</td>\n",
       "      <td>6.0</td>\n",
       "      <td>gas</td>\n",
       "      <td>57954.0</td>\n",
       "      <td>automatic</td>\n",
       "      <td>sedan</td>\n",
       "      <td>black</td>\n",
       "      <td>1.0</td>\n",
       "      <td>2018-06-20</td>\n",
       "      <td>15</td>\n",
       "      <td>chrysler</td>\n",
       "    </tr>\n",
       "    <tr>\n",
       "      <th>6</th>\n",
       "      <td>12990</td>\n",
       "      <td>2015.0</td>\n",
       "      <td>toyota camry</td>\n",
       "      <td>excellent</td>\n",
       "      <td>4.0</td>\n",
       "      <td>gas</td>\n",
       "      <td>79212.0</td>\n",
       "      <td>automatic</td>\n",
       "      <td>sedan</td>\n",
       "      <td>white</td>\n",
       "      <td>NaN</td>\n",
       "      <td>2018-12-27</td>\n",
       "      <td>73</td>\n",
       "      <td>toyota</td>\n",
       "    </tr>\n",
       "    <tr>\n",
       "      <th>7</th>\n",
       "      <td>15990</td>\n",
       "      <td>2013.0</td>\n",
       "      <td>honda pilot</td>\n",
       "      <td>excellent</td>\n",
       "      <td>6.0</td>\n",
       "      <td>gas</td>\n",
       "      <td>109473.0</td>\n",
       "      <td>automatic</td>\n",
       "      <td>suv</td>\n",
       "      <td>black</td>\n",
       "      <td>1.0</td>\n",
       "      <td>2019-01-07</td>\n",
       "      <td>68</td>\n",
       "      <td>honda</td>\n",
       "    </tr>\n",
       "    <tr>\n",
       "      <th>8</th>\n",
       "      <td>11500</td>\n",
       "      <td>2012.0</td>\n",
       "      <td>kia sorento</td>\n",
       "      <td>excellent</td>\n",
       "      <td>4.0</td>\n",
       "      <td>gas</td>\n",
       "      <td>104174.0</td>\n",
       "      <td>automatic</td>\n",
       "      <td>suv</td>\n",
       "      <td>NaN</td>\n",
       "      <td>1.0</td>\n",
       "      <td>2018-07-16</td>\n",
       "      <td>19</td>\n",
       "      <td>kia</td>\n",
       "    </tr>\n",
       "    <tr>\n",
       "      <th>9</th>\n",
       "      <td>9200</td>\n",
       "      <td>2008.0</td>\n",
       "      <td>honda pilot</td>\n",
       "      <td>excellent</td>\n",
       "      <td>NaN</td>\n",
       "      <td>gas</td>\n",
       "      <td>147191.0</td>\n",
       "      <td>automatic</td>\n",
       "      <td>suv</td>\n",
       "      <td>blue</td>\n",
       "      <td>1.0</td>\n",
       "      <td>2019-02-15</td>\n",
       "      <td>17</td>\n",
       "      <td>honda</td>\n",
       "    </tr>\n",
       "  </tbody>\n",
       "</table>\n",
       "</div>"
      ],
      "text/plain": [
       "   price  model_year           model  condition  cylinders fuel  odometer  \\\n",
       "0   9400      2011.0          bmw x5       good        6.0  gas  145000.0   \n",
       "1  25500         NaN      ford f-150       good        6.0  gas   88705.0   \n",
       "2   5500      2013.0  hyundai sonata   like new        4.0  gas  110000.0   \n",
       "3   1500      2003.0      ford f-150       fair        8.0  gas       NaN   \n",
       "4  14900      2017.0    chrysler 200  excellent        4.0  gas   80903.0   \n",
       "5  14990      2014.0    chrysler 300  excellent        6.0  gas   57954.0   \n",
       "6  12990      2015.0    toyota camry  excellent        4.0  gas   79212.0   \n",
       "7  15990      2013.0     honda pilot  excellent        6.0  gas  109473.0   \n",
       "8  11500      2012.0     kia sorento  excellent        4.0  gas  104174.0   \n",
       "9   9200      2008.0     honda pilot  excellent        NaN  gas  147191.0   \n",
       "\n",
       "  transmission    type paint_color  is_4wd date_posted  days_listed  \\\n",
       "0    automatic     suv         NaN     1.0  2018-06-23           19   \n",
       "1    automatic  pickup       white     1.0  2018-10-19           50   \n",
       "2    automatic   sedan         red     NaN  2019-02-07           79   \n",
       "3    automatic  pickup         NaN     NaN  2019-03-22            9   \n",
       "4    automatic   sedan       black     NaN  2019-04-02           28   \n",
       "5    automatic   sedan       black     1.0  2018-06-20           15   \n",
       "6    automatic   sedan       white     NaN  2018-12-27           73   \n",
       "7    automatic     suv       black     1.0  2019-01-07           68   \n",
       "8    automatic     suv         NaN     1.0  2018-07-16           19   \n",
       "9    automatic     suv        blue     1.0  2019-02-15           17   \n",
       "\n",
       "  manufacturer  \n",
       "0          bmw  \n",
       "1         ford  \n",
       "2      hyundai  \n",
       "3         ford  \n",
       "4     chrysler  \n",
       "5     chrysler  \n",
       "6       toyota  \n",
       "7        honda  \n",
       "8          kia  \n",
       "9        honda  "
      ]
     },
     "metadata": {},
     "output_type": "display_data"
    }
   ],
   "source": [
    "# Create a new column 'manufacturer' by getting the first word from the 'model' column\n",
    "\n",
    "df_vehicles['manufacturer'] = df_vehicles['model'].apply(lambda x: x.split()[0])\n",
    "\n",
    "display(df_vehicles.head(10))"
   ]
  },
  {
   "cell_type": "code",
   "execution_count": 5,
   "metadata": {},
   "outputs": [
    {
     "name": "stdout",
     "output_type": "stream",
     "text": [
      "<class 'pandas.core.frame.DataFrame'>\n",
      "Index: 50382 entries, 0 to 51524\n",
      "Data columns (total 14 columns):\n",
      " #   Column        Non-Null Count  Dtype  \n",
      "---  ------        --------------  -----  \n",
      " 0   price         50382 non-null  int64  \n",
      " 1   model_year    50382 non-null  int32  \n",
      " 2   model         50382 non-null  object \n",
      " 3   condition     50382 non-null  object \n",
      " 4   cylinders     45241 non-null  float64\n",
      " 5   fuel          50382 non-null  object \n",
      " 6   odometer      42643 non-null  float64\n",
      " 7   transmission  50382 non-null  object \n",
      " 8   type          50382 non-null  object \n",
      " 9   paint_color   41308 non-null  object \n",
      " 10  is_4wd        24903 non-null  float64\n",
      " 11  date_posted   50382 non-null  object \n",
      " 12  days_listed   50382 non-null  int64  \n",
      " 13  manufacturer  50382 non-null  object \n",
      "dtypes: float64(3), int32(1), int64(2), object(8)\n",
      "memory usage: 5.6+ MB\n",
      "None\n"
     ]
    }
   ],
   "source": [
    "# Calculate median model year for each model\n",
    "median_model_year = df_vehicles.groupby('model')['model_year'].transform('median')\n",
    "\n",
    "# Fill missing values in 'model_year' with the corresponding median model year\n",
    "df_vehicles['model_year'] = df_vehicles['model_year'].fillna(median_model_year)\n",
    "\n",
    "# Convert 'model_year' to integer type\n",
    "df_vehicles['model_year'] = df_vehicles['model_year'].astype(int)\n",
    "\n",
    "# Reset the index\n",
    "df_vehicles.reset_index(drop=True, inplace=True)\n",
    "\n",
    "# Remove outliers within the 'model_year' & 'price column\n",
    "def remove_outliers(df, columns):\n",
    "    for column in columns:\n",
    "        # Calculate Z-score for the column\n",
    "        z_scores = stats.zscore(df[column])\n",
    "        # Define threshold for outliers (e.g., Z-score > 3 or Z-score < -3)\n",
    "        threshold = 3\n",
    "        # Filter rows where absolute Z-score exceeds the threshold\n",
    "        df = df[(z_scores < threshold) & (z_scores > -threshold)]\n",
    "    return df\n",
    "\n",
    "# Assuming df_vehicles is your original dataframe\n",
    "df_vehicles = remove_outliers(df_vehicles, ['price', 'model_year'])\n",
    "\n",
    "# Display the result\n",
    "print(df_vehicles.info())\n"
   ]
  },
  {
   "cell_type": "code",
   "execution_count": 6,
   "metadata": {},
   "outputs": [
    {
     "name": "stdout",
     "output_type": "stream",
     "text": [
      "<class 'pandas.core.frame.DataFrame'>\n",
      "RangeIndex: 50382 entries, 0 to 50381\n",
      "Data columns (total 14 columns):\n",
      " #   Column        Non-Null Count  Dtype  \n",
      "---  ------        --------------  -----  \n",
      " 0   price         50382 non-null  int64  \n",
      " 1   model_year    50382 non-null  int32  \n",
      " 2   model         50382 non-null  object \n",
      " 3   condition     50382 non-null  object \n",
      " 4   cylinders     50382 non-null  int32  \n",
      " 5   fuel          50382 non-null  object \n",
      " 6   odometer      42643 non-null  float64\n",
      " 7   transmission  50382 non-null  object \n",
      " 8   type          50382 non-null  object \n",
      " 9   paint_color   41308 non-null  object \n",
      " 10  is_4wd        24903 non-null  float64\n",
      " 11  date_posted   50382 non-null  object \n",
      " 12  days_listed   50382 non-null  int64  \n",
      " 13  manufacturer  50382 non-null  object \n",
      "dtypes: float64(2), int32(2), int64(2), object(8)\n",
      "memory usage: 5.0+ MB\n",
      "None\n"
     ]
    }
   ],
   "source": [
    "# Calculate median cylinders for each model\n",
    "median_cylinders = df_vehicles.groupby('model')['cylinders'].transform('median')\n",
    "\n",
    "# Fill missing values in 'cylinders' with the corresponding median cylinders\n",
    "df_vehicles['cylinders'] = df_vehicles['cylinders'].fillna(median_cylinders)\n",
    "\n",
    "# Convert 'cylinders' to integer type\n",
    "df_vehicles['cylinders'] = df_vehicles['cylinders'].astype(int)\n",
    "\n",
    "# Reset the index\n",
    "df_vehicles.reset_index(drop=True, inplace=True)\n",
    "\n",
    "# Display the result\n",
    "print(df_vehicles.info())"
   ]
  },
  {
   "cell_type": "code",
   "execution_count": 7,
   "metadata": {},
   "outputs": [
    {
     "name": "stdout",
     "output_type": "stream",
     "text": [
      "<class 'pandas.core.frame.DataFrame'>\n",
      "RangeIndex: 50382 entries, 0 to 50381\n",
      "Data columns (total 14 columns):\n",
      " #   Column        Non-Null Count  Dtype  \n",
      "---  ------        --------------  -----  \n",
      " 0   price         50382 non-null  int64  \n",
      " 1   model_year    50382 non-null  int32  \n",
      " 2   model         50382 non-null  object \n",
      " 3   condition     50382 non-null  object \n",
      " 4   cylinders     50382 non-null  int32  \n",
      " 5   fuel          50382 non-null  object \n",
      " 6   odometer      50382 non-null  int32  \n",
      " 7   transmission  50382 non-null  object \n",
      " 8   type          50382 non-null  object \n",
      " 9   paint_color   41308 non-null  object \n",
      " 10  is_4wd        24903 non-null  float64\n",
      " 11  date_posted   50382 non-null  object \n",
      " 12  days_listed   50382 non-null  int64  \n",
      " 13  manufacturer  50382 non-null  object \n",
      "dtypes: float64(1), int32(3), int64(2), object(8)\n",
      "memory usage: 4.8+ MB\n",
      "None\n"
     ]
    }
   ],
   "source": [
    "# Calculate median odometer value for each group\n",
    "median_odometer = df_vehicles.groupby(['model_year', 'model'])['odometer'].transform('median')\n",
    "\n",
    "# Fill missing values in 'odometer' with the corresponding median value\n",
    "df_vehicles['odometer'] = df_vehicles['odometer'].fillna(median_odometer)\n",
    "\n",
    "# Fill remaining missing values with a placeholder value (e.g., -1)\n",
    "df_vehicles.fillna({'odometer': -1}, inplace=True)\n",
    "\n",
    "# Change 'odometer' data type to int\n",
    "df_vehicles['odometer'] = df_vehicles['odometer'].astype(int)\n",
    "\n",
    "# Reset the index\n",
    "df_vehicles.reset_index(drop=True, inplace=True)\n",
    "\n",
    "# Display the result\n",
    "print(df_vehicles.info())\n"
   ]
  },
  {
   "cell_type": "markdown",
   "metadata": {},
   "source": [
    "**Student Note:** \n",
    "\n",
    "It makes more sense for the 'is_4wd' column to be represented as a boolean data type. So I have converted the column as such below. This will help increase clarity of this attribute. Any empty values for 'paint_color' I have replaced with \"unknown\", since this is factual do to the missing information. "
   ]
  },
  {
   "cell_type": "code",
   "execution_count": 8,
   "metadata": {},
   "outputs": [],
   "source": [
    "\n",
    "# Fill NaN values with False and convert 1.0 to True\n",
    "\n",
    "df_vehicles['is_4wd'] = df_vehicles['is_4wd'].fillna(False).astype(bool)\n",
    "\n",
    "# Replace NaN values in 'paint_color' column with \"unknown\"\n",
    "\n",
    "df_vehicles['paint_color'] = df_vehicles['paint_color'].fillna(\"unknown\")\n",
    "\n",
    "# Convert 'date_posted' column to datetime data type\n",
    "\n",
    "df_vehicles['date_posted'] = pd.to_datetime(df_vehicles['date_posted'])"
   ]
  },
  {
   "cell_type": "code",
   "execution_count": 9,
   "metadata": {},
   "outputs": [
    {
     "data": {
      "text/html": [
       "<div>\n",
       "<style scoped>\n",
       "    .dataframe tbody tr th:only-of-type {\n",
       "        vertical-align: middle;\n",
       "    }\n",
       "\n",
       "    .dataframe tbody tr th {\n",
       "        vertical-align: top;\n",
       "    }\n",
       "\n",
       "    .dataframe thead th {\n",
       "        text-align: right;\n",
       "    }\n",
       "</style>\n",
       "<table border=\"1\" class=\"dataframe\">\n",
       "  <thead>\n",
       "    <tr style=\"text-align: right;\">\n",
       "      <th></th>\n",
       "      <th>price</th>\n",
       "      <th>model_year</th>\n",
       "      <th>model</th>\n",
       "      <th>condition</th>\n",
       "      <th>cylinders</th>\n",
       "      <th>fuel</th>\n",
       "      <th>odometer</th>\n",
       "      <th>transmission</th>\n",
       "      <th>type</th>\n",
       "      <th>paint_color</th>\n",
       "      <th>is_4wd</th>\n",
       "      <th>date_posted</th>\n",
       "      <th>days_listed</th>\n",
       "      <th>manufacturer</th>\n",
       "    </tr>\n",
       "  </thead>\n",
       "  <tbody>\n",
       "    <tr>\n",
       "      <th>0</th>\n",
       "      <td>9400</td>\n",
       "      <td>2011</td>\n",
       "      <td>bmw x5</td>\n",
       "      <td>good</td>\n",
       "      <td>6</td>\n",
       "      <td>gas</td>\n",
       "      <td>145000</td>\n",
       "      <td>automatic</td>\n",
       "      <td>suv</td>\n",
       "      <td>unknown</td>\n",
       "      <td>True</td>\n",
       "      <td>2018-06-23</td>\n",
       "      <td>19</td>\n",
       "      <td>bmw</td>\n",
       "    </tr>\n",
       "    <tr>\n",
       "      <th>1</th>\n",
       "      <td>25500</td>\n",
       "      <td>2011</td>\n",
       "      <td>ford f-150</td>\n",
       "      <td>good</td>\n",
       "      <td>6</td>\n",
       "      <td>gas</td>\n",
       "      <td>88705</td>\n",
       "      <td>automatic</td>\n",
       "      <td>pickup</td>\n",
       "      <td>white</td>\n",
       "      <td>True</td>\n",
       "      <td>2018-10-19</td>\n",
       "      <td>50</td>\n",
       "      <td>ford</td>\n",
       "    </tr>\n",
       "    <tr>\n",
       "      <th>2</th>\n",
       "      <td>5500</td>\n",
       "      <td>2013</td>\n",
       "      <td>hyundai sonata</td>\n",
       "      <td>like new</td>\n",
       "      <td>4</td>\n",
       "      <td>gas</td>\n",
       "      <td>110000</td>\n",
       "      <td>automatic</td>\n",
       "      <td>sedan</td>\n",
       "      <td>red</td>\n",
       "      <td>False</td>\n",
       "      <td>2019-02-07</td>\n",
       "      <td>79</td>\n",
       "      <td>hyundai</td>\n",
       "    </tr>\n",
       "    <tr>\n",
       "      <th>3</th>\n",
       "      <td>1500</td>\n",
       "      <td>2003</td>\n",
       "      <td>ford f-150</td>\n",
       "      <td>fair</td>\n",
       "      <td>8</td>\n",
       "      <td>gas</td>\n",
       "      <td>177500</td>\n",
       "      <td>automatic</td>\n",
       "      <td>pickup</td>\n",
       "      <td>unknown</td>\n",
       "      <td>False</td>\n",
       "      <td>2019-03-22</td>\n",
       "      <td>9</td>\n",
       "      <td>ford</td>\n",
       "    </tr>\n",
       "    <tr>\n",
       "      <th>4</th>\n",
       "      <td>14900</td>\n",
       "      <td>2017</td>\n",
       "      <td>chrysler 200</td>\n",
       "      <td>excellent</td>\n",
       "      <td>4</td>\n",
       "      <td>gas</td>\n",
       "      <td>80903</td>\n",
       "      <td>automatic</td>\n",
       "      <td>sedan</td>\n",
       "      <td>black</td>\n",
       "      <td>False</td>\n",
       "      <td>2019-04-02</td>\n",
       "      <td>28</td>\n",
       "      <td>chrysler</td>\n",
       "    </tr>\n",
       "    <tr>\n",
       "      <th>5</th>\n",
       "      <td>14990</td>\n",
       "      <td>2014</td>\n",
       "      <td>chrysler 300</td>\n",
       "      <td>excellent</td>\n",
       "      <td>6</td>\n",
       "      <td>gas</td>\n",
       "      <td>57954</td>\n",
       "      <td>automatic</td>\n",
       "      <td>sedan</td>\n",
       "      <td>black</td>\n",
       "      <td>True</td>\n",
       "      <td>2018-06-20</td>\n",
       "      <td>15</td>\n",
       "      <td>chrysler</td>\n",
       "    </tr>\n",
       "    <tr>\n",
       "      <th>6</th>\n",
       "      <td>12990</td>\n",
       "      <td>2015</td>\n",
       "      <td>toyota camry</td>\n",
       "      <td>excellent</td>\n",
       "      <td>4</td>\n",
       "      <td>gas</td>\n",
       "      <td>79212</td>\n",
       "      <td>automatic</td>\n",
       "      <td>sedan</td>\n",
       "      <td>white</td>\n",
       "      <td>False</td>\n",
       "      <td>2018-12-27</td>\n",
       "      <td>73</td>\n",
       "      <td>toyota</td>\n",
       "    </tr>\n",
       "    <tr>\n",
       "      <th>7</th>\n",
       "      <td>15990</td>\n",
       "      <td>2013</td>\n",
       "      <td>honda pilot</td>\n",
       "      <td>excellent</td>\n",
       "      <td>6</td>\n",
       "      <td>gas</td>\n",
       "      <td>109473</td>\n",
       "      <td>automatic</td>\n",
       "      <td>suv</td>\n",
       "      <td>black</td>\n",
       "      <td>True</td>\n",
       "      <td>2019-01-07</td>\n",
       "      <td>68</td>\n",
       "      <td>honda</td>\n",
       "    </tr>\n",
       "    <tr>\n",
       "      <th>8</th>\n",
       "      <td>11500</td>\n",
       "      <td>2012</td>\n",
       "      <td>kia sorento</td>\n",
       "      <td>excellent</td>\n",
       "      <td>4</td>\n",
       "      <td>gas</td>\n",
       "      <td>104174</td>\n",
       "      <td>automatic</td>\n",
       "      <td>suv</td>\n",
       "      <td>unknown</td>\n",
       "      <td>True</td>\n",
       "      <td>2018-07-16</td>\n",
       "      <td>19</td>\n",
       "      <td>kia</td>\n",
       "    </tr>\n",
       "    <tr>\n",
       "      <th>9</th>\n",
       "      <td>9200</td>\n",
       "      <td>2008</td>\n",
       "      <td>honda pilot</td>\n",
       "      <td>excellent</td>\n",
       "      <td>6</td>\n",
       "      <td>gas</td>\n",
       "      <td>147191</td>\n",
       "      <td>automatic</td>\n",
       "      <td>suv</td>\n",
       "      <td>blue</td>\n",
       "      <td>True</td>\n",
       "      <td>2019-02-15</td>\n",
       "      <td>17</td>\n",
       "      <td>honda</td>\n",
       "    </tr>\n",
       "  </tbody>\n",
       "</table>\n",
       "</div>"
      ],
      "text/plain": [
       "   price  model_year           model  condition  cylinders fuel  odometer  \\\n",
       "0   9400        2011          bmw x5       good          6  gas    145000   \n",
       "1  25500        2011      ford f-150       good          6  gas     88705   \n",
       "2   5500        2013  hyundai sonata   like new          4  gas    110000   \n",
       "3   1500        2003      ford f-150       fair          8  gas    177500   \n",
       "4  14900        2017    chrysler 200  excellent          4  gas     80903   \n",
       "5  14990        2014    chrysler 300  excellent          6  gas     57954   \n",
       "6  12990        2015    toyota camry  excellent          4  gas     79212   \n",
       "7  15990        2013     honda pilot  excellent          6  gas    109473   \n",
       "8  11500        2012     kia sorento  excellent          4  gas    104174   \n",
       "9   9200        2008     honda pilot  excellent          6  gas    147191   \n",
       "\n",
       "  transmission    type paint_color  is_4wd date_posted  days_listed  \\\n",
       "0    automatic     suv     unknown    True  2018-06-23           19   \n",
       "1    automatic  pickup       white    True  2018-10-19           50   \n",
       "2    automatic   sedan         red   False  2019-02-07           79   \n",
       "3    automatic  pickup     unknown   False  2019-03-22            9   \n",
       "4    automatic   sedan       black   False  2019-04-02           28   \n",
       "5    automatic   sedan       black    True  2018-06-20           15   \n",
       "6    automatic   sedan       white   False  2018-12-27           73   \n",
       "7    automatic     suv       black    True  2019-01-07           68   \n",
       "8    automatic     suv     unknown    True  2018-07-16           19   \n",
       "9    automatic     suv        blue    True  2019-02-15           17   \n",
       "\n",
       "  manufacturer  \n",
       "0          bmw  \n",
       "1         ford  \n",
       "2      hyundai  \n",
       "3         ford  \n",
       "4     chrysler  \n",
       "5     chrysler  \n",
       "6       toyota  \n",
       "7        honda  \n",
       "8          kia  \n",
       "9        honda  "
      ]
     },
     "metadata": {},
     "output_type": "display_data"
    },
    {
     "name": "stdout",
     "output_type": "stream",
     "text": [
      "\n",
      "<class 'pandas.core.frame.DataFrame'>\n",
      "RangeIndex: 50382 entries, 0 to 50381\n",
      "Data columns (total 14 columns):\n",
      " #   Column        Non-Null Count  Dtype         \n",
      "---  ------        --------------  -----         \n",
      " 0   price         50382 non-null  int64         \n",
      " 1   model_year    50382 non-null  int32         \n",
      " 2   model         50382 non-null  object        \n",
      " 3   condition     50382 non-null  object        \n",
      " 4   cylinders     50382 non-null  int32         \n",
      " 5   fuel          50382 non-null  object        \n",
      " 6   odometer      50382 non-null  int32         \n",
      " 7   transmission  50382 non-null  object        \n",
      " 8   type          50382 non-null  object        \n",
      " 9   paint_color   50382 non-null  object        \n",
      " 10  is_4wd        50382 non-null  bool          \n",
      " 11  date_posted   50382 non-null  datetime64[ns]\n",
      " 12  days_listed   50382 non-null  int64         \n",
      " 13  manufacturer  50382 non-null  object        \n",
      "dtypes: bool(1), datetime64[ns](1), int32(3), int64(2), object(7)\n",
      "memory usage: 4.5+ MB\n"
     ]
    }
   ],
   "source": [
    "# Checking all of the changes from above\n",
    "\n",
    "display(df_vehicles.head(10))\n",
    "print()\n",
    "df_vehicles.info()"
   ]
  },
  {
   "cell_type": "code",
   "execution_count": 10,
   "metadata": {},
   "outputs": [],
   "source": [
    "# Check for fully duplicated rows & drop duplicates\n",
    "\n",
    "df_vehicles = df_vehicles.drop_duplicates().reset_index(drop=True)\n"
   ]
  },
  {
   "cell_type": "code",
   "execution_count": 11,
   "metadata": {},
   "outputs": [
    {
     "name": "stdout",
     "output_type": "stream",
     "text": [
      "<class 'pandas.core.frame.DataFrame'>\n",
      "RangeIndex: 50382 entries, 0 to 50381\n",
      "Data columns (total 14 columns):\n",
      " #   Column        Non-Null Count  Dtype         \n",
      "---  ------        --------------  -----         \n",
      " 0   price         50382 non-null  int64         \n",
      " 1   model_year    50382 non-null  int32         \n",
      " 2   model         50382 non-null  object        \n",
      " 3   condition     50382 non-null  object        \n",
      " 4   cylinders     50382 non-null  int32         \n",
      " 5   fuel          50382 non-null  object        \n",
      " 6   odometer      50382 non-null  int32         \n",
      " 7   transmission  50382 non-null  object        \n",
      " 8   type          50382 non-null  object        \n",
      " 9   paint_color   50382 non-null  object        \n",
      " 10  is_4wd        50382 non-null  bool          \n",
      " 11  date_posted   50382 non-null  datetime64[ns]\n",
      " 12  days_listed   50382 non-null  int64         \n",
      " 13  manufacturer  50382 non-null  object        \n",
      "dtypes: bool(1), datetime64[ns](1), int32(3), int64(2), object(7)\n",
      "memory usage: 4.5+ MB\n"
     ]
    }
   ],
   "source": [
    "# Checking if non-null values decreased or not\n",
    "\n",
    "df_vehicles.info()"
   ]
  },
  {
   "cell_type": "code",
   "execution_count": 12,
   "metadata": {},
   "outputs": [
    {
     "name": "stdout",
     "output_type": "stream",
     "text": [
      "Unique values in price: [ 9400 25500  5500 ...  3636  9249  7455]\n",
      "Unique values in model_year: [2011 2013 2003 2017 2014 2015 2012 2008 2018 2009 2010 2007 2004 2005\n",
      " 2001 2006 1994 2019 2000 2016 1993 1999 1997 2002 1995 1996 1998 1992]\n",
      "Unique values in model: ['bmw x5' 'ford f-150' 'hyundai sonata' 'chrysler 200' 'chrysler 300'\n",
      " 'toyota camry' 'honda pilot' 'kia sorento' 'chevrolet silverado 1500'\n",
      " 'honda accord' 'ram 1500' 'gmc yukon' 'jeep cherokee'\n",
      " 'chevrolet traverse' 'hyundai elantra' 'chevrolet tahoe' 'toyota rav4'\n",
      " 'chevrolet silverado' 'jeep wrangler' 'chevrolet malibu' 'ford fusion se'\n",
      " 'chevrolet impala' 'chevrolet corvette' 'jeep liberty' 'toyota camry le'\n",
      " 'nissan altima' 'subaru outback' 'toyota highlander' 'dodge charger'\n",
      " 'toyota tacoma' 'chevrolet equinox' 'nissan rogue'\n",
      " 'mercedes-benz benze sprinter 2500' 'honda cr-v' 'jeep grand cherokee'\n",
      " 'toyota 4runner' 'ford focus' 'honda civic' 'kia soul'\n",
      " 'chevrolet colorado' 'ford f150 supercrew cab xlt'\n",
      " 'chevrolet camaro lt coupe 2d' 'chevrolet cruze'\n",
      " 'chevrolet silverado 3500hd' 'nissan frontier crew cab sv'\n",
      " 'subaru impreza' 'jeep grand cherokee laredo' 'nissan versa'\n",
      " 'ford f-250 sd' 'chevrolet silverado 1500 crew' 'ford f250 super duty'\n",
      " 'chevrolet camaro' 'ford mustang gt coupe 2d' 'subaru forester'\n",
      " 'ford explorer' 'ford f-350 sd' 'ford edge' 'nissan maxima' 'ford f-250'\n",
      " 'nissan sentra' 'ford f150' 'chevrolet suburban' 'ford expedition'\n",
      " 'dodge grand caravan' 'ford taurus' 'acura tl' 'ford f350 super duty'\n",
      " 'ford ranger' 'gmc sierra' 'ford mustang' 'hyundai santa fe'\n",
      " 'ford escape' 'gmc sierra 2500hd' 'honda civic lx' 'gmc sierra 1500'\n",
      " 'honda odyssey' 'cadillac escalade' 'volkswagen jetta' 'toyota corolla'\n",
      " 'chrysler town & country' 'volkswagen passat' 'toyota prius'\n",
      " 'buick enclave' 'ford fusion' 'toyota tundra' 'ram 3500' 'ram 2500'\n",
      " 'nissan frontier' 'chevrolet silverado 2500hd' 'jeep wrangler unlimited'\n",
      " 'ford f-250 super duty' 'gmc acadia' 'toyota sienna' 'ford focus se'\n",
      " 'ford f250' 'dodge dakota' 'ford f350' 'chevrolet trailblazer'\n",
      " 'ford econoline' 'nissan murano']\n",
      "Unique values in condition: ['good' 'like new' 'fair' 'excellent' 'salvage' 'new']\n",
      "Unique values in cylinders: [ 6  4  8  5 10  3 12]\n",
      "Unique values in fuel: ['gas' 'diesel' 'other' 'hybrid' 'electric']\n",
      "Unique values in odometer: [145000  88705 110000 ... 121778 181500 139573]\n",
      "Unique values in transmission: ['automatic' 'manual' 'other']\n",
      "Unique values in type: ['suv' 'pickup' 'sedan' 'truck' 'coupe' 'van' 'hatchback' 'wagon'\n",
      " 'mini-van' 'convertible' 'other' 'offroad' 'bus']\n",
      "Unique values in paint_color: ['unknown' 'white' 'red' 'black' 'blue' 'grey' 'silver' 'custom' 'orange'\n",
      " 'yellow' 'brown' 'green' 'purple']\n",
      "Unique values in is_4wd: [ True False]\n",
      "Unique values in date_posted: <DatetimeArray>\n",
      "['2018-06-23 00:00:00', '2018-10-19 00:00:00', '2019-02-07 00:00:00',\n",
      " '2019-03-22 00:00:00', '2019-04-02 00:00:00', '2018-06-20 00:00:00',\n",
      " '2018-12-27 00:00:00', '2019-01-07 00:00:00', '2018-07-16 00:00:00',\n",
      " '2019-02-15 00:00:00',\n",
      " ...\n",
      " '2018-05-28 00:00:00', '2018-11-25 00:00:00', '2018-07-18 00:00:00',\n",
      " '2019-04-17 00:00:00', '2019-01-11 00:00:00', '2019-03-15 00:00:00',\n",
      " '2018-08-21 00:00:00', '2019-03-12 00:00:00', '2018-07-02 00:00:00',\n",
      " '2018-08-27 00:00:00']\n",
      "Length: 354, dtype: datetime64[ns]\n",
      "Unique values in days_listed: [ 19  50  79   9  28  15  73  68  17  38  29  37  24 111  13  25  27   8\n",
      "  64  39  40  43  23  42 101  20  14   7  31 121  22  44   1  36  21  16\n",
      "  10  60  51  35 261  71  99   2  26  48  54  85  41  53   3  33  30  47\n",
      "  32  18  52 152  11 100  94  82 141  70  57  62  46  96  58  34  93  49\n",
      "  55  67  78  12   6 108  72 112  83  61  59 130   4  98   5 164  56  75\n",
      "  74  80  66  63 109  81  90 127  45  88  91  77 114  84 110 140  69 104\n",
      " 120  97  76  92  89 128 113 129  65 115 106 116 154 151 147 124 102  87\n",
      " 143  95  86 132 105 107   0 103 117 118 149 144 122 137 263 148 156 179\n",
      " 126 169 136 125 119 177 174 173 134 171 145 139 166 244 228 142 135 162\n",
      " 131 183 271 138 123 157 201 161 158 150 181 256 133 146 195 207 163 206\n",
      " 236 160 190 184 165 159 153 204 233 185 221 226 172 203 176 202 240 197\n",
      " 208 209 188 187 192 193 225 243 189 175 205 180 267 182 199 217 210 178\n",
      " 223 167 170 194 168 213 191 252 155 200 186]\n",
      "Unique values in manufacturer: ['bmw' 'ford' 'hyundai' 'chrysler' 'toyota' 'honda' 'kia' 'chevrolet'\n",
      " 'ram' 'gmc' 'jeep' 'nissan' 'subaru' 'dodge' 'mercedes-benz' 'acura'\n",
      " 'cadillac' 'volkswagen' 'buick']\n"
     ]
    }
   ],
   "source": [
    "# Retrieves the unique values for each column using the unique() method\n",
    "\n",
    "for column in df_vehicles.columns:\n",
    "    unique_values = df_vehicles[column].unique()\n",
    "    print(f\"Unique values in {column}: {unique_values}\")\n"
   ]
  },
  {
   "cell_type": "markdown",
   "metadata": {},
   "source": [
    "**Student Note:** There were no duplicate values. I will use describe on a few different columns below, as well as range, so that I have the numbers that I need for building my graphs."
   ]
  },
  {
   "cell_type": "code",
   "execution_count": 13,
   "metadata": {},
   "outputs": [
    {
     "name": "stdout",
     "output_type": "stream",
     "text": [
      "count    50382.000000\n",
      "mean     11651.771466\n",
      "std       8581.544704\n",
      "min          1.000000\n",
      "25%       4999.000000\n",
      "50%       8995.000000\n",
      "75%      16000.000000\n",
      "max      42000.000000\n",
      "Name: price, dtype: float64\n"
     ]
    }
   ],
   "source": [
    "# Use describe() method on the 'price' column\n",
    "\n",
    "price_summary = df_vehicles['price'].describe()\n",
    "\n",
    "# Print the summary statistics\n",
    "\n",
    "print(price_summary)\n"
   ]
  },
  {
   "cell_type": "code",
   "execution_count": 14,
   "metadata": {},
   "outputs": [
    {
     "name": "stdout",
     "output_type": "stream",
     "text": [
      "count    50382.000000\n",
      "mean      2010.024930\n",
      "std          5.221165\n",
      "min       1992.000000\n",
      "25%       2007.000000\n",
      "50%       2011.000000\n",
      "75%       2014.000000\n",
      "max       2019.000000\n",
      "Name: model_year, dtype: float64\n"
     ]
    }
   ],
   "source": [
    "# Use describe() method on the 'model_year' column\n",
    "\n",
    "model_year_summary = df_vehicles['model_year'].describe()\n",
    "\n",
    "# Print the summary statistics\n",
    "\n",
    "print(model_year_summary)"
   ]
  },
  {
   "cell_type": "code",
   "execution_count": 23,
   "metadata": {},
   "outputs": [
    {
     "name": "stdout",
     "output_type": "stream",
     "text": [
      "count     50382\n",
      "unique       19\n",
      "top        ford\n",
      "freq      12381\n",
      "Name: manufacturer, dtype: object\n"
     ]
    }
   ],
   "source": [
    "# Provide summary statistics for the 'manufacturer' column, including count, unique values,\n",
    "# top value (most frequent), and frequency of the top value.\n",
    "\n",
    "manufacturer_summary = df_vehicles['manufacturer'].describe(include=['object'])\n",
    "\n",
    "print(manufacturer_summary)"
   ]
  },
  {
   "cell_type": "code",
   "execution_count": 24,
   "metadata": {},
   "outputs": [
    {
     "data": {
      "image/png": "[encoded data removed]",
      "text/plain": [
       "<Figure size 1000x600 with 1 Axes>"
      ]
     },
     "metadata": {},
     "output_type": "display_data"
    }
   ],
   "source": [
    "# Create a bar chart showing the frequency of each manufacturer\n",
    "\n",
    "manufacturer_counts = df_vehicles['manufacturer'].value_counts()\n",
    "\n",
    "plt.figure(figsize=(10, 6))\n",
    "manufacturer_counts.plot(kind='bar', color='skyblue')\n",
    "plt.title('Manufacturer Popularity')\n",
    "plt.xlabel('Manufacturer')\n",
    "plt.ylabel('Frequency')\n",
    "plt.xticks(rotation=45)\n",
    "plt.show()"
   ]
  },
  {
   "cell_type": "markdown",
   "metadata": {},
   "source": [
    "**Student Note:**\n",
    "\n",
    "I used the describe method above, in order to determine what the top manufacturer in the dataset was. In this case it's Ford. Then I created a bar chart so that we can visually see how the rest of the manufacturers compare. Ford & Chevrolet are the top two most popular."
   ]
  },
  {
   "cell_type": "code",
   "execution_count": 22,
   "metadata": {},
   "outputs": [
    {
     "name": "stdout",
     "output_type": "stream",
     "text": [
      "count          50382\n",
      "unique           100\n",
      "top       ford f-150\n",
      "freq            2738\n",
      "Name: model, dtype: object\n"
     ]
    }
   ],
   "source": [
    "# Provide summary statistics for the 'model' column, including count, unique values,\n",
    "# top value (most frequent), and frequency of the top value.\n",
    "\n",
    "model_summary = df_vehicles['model'].describe(include=['object'])\n",
    "\n",
    "print(model_summary)\n"
   ]
  },
  {
   "cell_type": "code",
   "execution_count": 28,
   "metadata": {},
   "outputs": [
    {
     "data": {
      "image/png": "[encoded data removed]",
      "text/plain": [
       "<Figure size 1000x600 with 1 Axes>"
      ]
     },
     "metadata": {},
     "output_type": "display_data"
    }
   ],
   "source": [
    "# Create a bar chart that shows the top 10 vehicle models\n",
    "\n",
    "model_counts = df_vehicles['model'].value_counts().head(10)\n",
    "plt.figure(figsize=(10, 6))\n",
    "model_counts.plot(kind='bar', color='purple')\n",
    "plt.title('Top 10 Vehicle Models')\n",
    "plt.xlabel('Model')\n",
    "plt.ylabel('Frequency')\n",
    "plt.xticks(rotation=45)\n",
    "plt.show()"
   ]
  },
  {
   "cell_type": "markdown",
   "metadata": {},
   "source": [
    "**Student Note:**\n",
    "\n",
    "I created a bar chart above to get a visual look at the Top 10 vehicle models within the dataset. We know that Ford & Chevrolet are the top two manufcaturers. However, when we look specifically at model, we see that Ford & Chevorlet models only account for 40% of the top ten models within the dataset."
   ]
  },
  {
   "cell_type": "code",
   "execution_count": 16,
   "metadata": {},
   "outputs": [
    {
     "name": "stdout",
     "output_type": "stream",
     "text": [
      "count     50382\n",
      "unique       13\n",
      "top         suv\n",
      "freq      12219\n",
      "Name: type, dtype: object\n"
     ]
    }
   ],
   "source": [
    "# Provide summary statistics for the 'type' column\n",
    "\n",
    "type_summary = df_vehicles['type'].describe(include=['object'])\n",
    "\n",
    "print(type_summary)"
   ]
  },
  {
   "cell_type": "code",
   "execution_count": 29,
   "metadata": {},
   "outputs": [
    {
     "data": {
      "image/png": "[encoded data removed]",
      "text/plain": [
       "<Figure size 1000x600 with 1 Axes>"
      ]
     },
     "metadata": {},
     "output_type": "display_data"
    }
   ],
   "source": [
    "# Create a bar chart to compare most common vehicle type in the dataset\n",
    "\n",
    "type_counts = df_vehicles['type'].value_counts()\n",
    "\n",
    "plt.figure(figsize=(10, 6))\n",
    "type_counts.plot(kind='bar', color='gold')\n",
    "plt.title('Vehicle Types')\n",
    "plt.xlabel('Type')\n",
    "plt.ylabel('Frequency')\n",
    "plt.xticks(rotation=45)\n",
    "plt.show()"
   ]
  },
  {
   "cell_type": "markdown",
   "metadata": {},
   "source": [
    "**Student Note:**\n",
    "\n",
    "As we can see above, we have a clear top 3 in regard to vehicle type. Which is: SUV, Sedan & Truck. Pickup follows samewhat closely behind. All other models are not nearly as present as the top 3."
   ]
  },
  {
   "cell_type": "code",
   "execution_count": 17,
   "metadata": {},
   "outputs": [
    {
     "name": "stdout",
     "output_type": "stream",
     "text": [
      "count     50382\n",
      "unique       13\n",
      "top       white\n",
      "freq       9773\n",
      "Name: paint_color, dtype: object\n"
     ]
    }
   ],
   "source": [
    "# Provide summary statistics for the 'paint_color' column\n",
    "\n",
    "paint_color_summary = df_vehicles['paint_color'].describe(include=['object'])\n",
    "\n",
    "print(paint_color_summary)"
   ]
  },
  {
   "cell_type": "code",
   "execution_count": 27,
   "metadata": {},
   "outputs": [
    {
     "data": {
      "image/png": "[encoded data removed]",
      "text/plain": [
       "<Figure size 1000x600 with 1 Axes>"
      ]
     },
     "metadata": {},
     "output_type": "display_data"
    }
   ],
   "source": [
    "# Create a graph to compare the 'paint_color' column\n",
    "\n",
    "paint_color_counts = df_vehicles['paint_color'].value_counts()\n",
    "\n",
    "plt.figure(figsize=(10, 6))\n",
    "paint_color_counts.plot(kind='bar', color='lightgreen')\n",
    "plt.title('Vehicle Paint Colors')\n",
    "plt.xlabel('Color')\n",
    "plt.ylabel('Frequency')\n",
    "plt.xticks(rotation=45)\n",
    "plt.show()"
   ]
  },
  {
   "cell_type": "markdown",
   "metadata": {},
   "source": [
    "**Student Note:** \n",
    "\n",
    "Above, I've created a bar character to visualize which vehicle colors are most present within the dataset. Here, we can see that white is the most common. If we exclude \"unknown\", black is a close second. "
   ]
  },
  {
   "cell_type": "code",
   "execution_count": 18,
   "metadata": {},
   "outputs": [
    {
     "name": "stdout",
     "output_type": "stream",
     "text": [
      "count     50382\n",
      "unique        5\n",
      "top         gas\n",
      "freq      46429\n",
      "Name: fuel, dtype: object\n"
     ]
    }
   ],
   "source": [
    "# Provide summary statistics for the 'fuel' column\n",
    "\n",
    "fuel_summary = df_vehicles['fuel'].describe(include=['object'])\n",
    "\n",
    "print(fuel_summary)"
   ]
  },
  {
   "cell_type": "code",
   "execution_count": 19,
   "metadata": {},
   "outputs": [
    {
     "name": "stdout",
     "output_type": "stream",
     "text": [
      "count     50382\n",
      "unique        2\n",
      "top       False\n",
      "freq      25479\n",
      "Name: is_4wd, dtype: object\n"
     ]
    }
   ],
   "source": [
    "# Provide summary statistics for the 'is_4wd' column\n",
    "\n",
    "is_4wd_summary = df_vehicles['is_4wd'].describe(include=['object'])\n",
    "\n",
    "print(is_4wd_summary)"
   ]
  },
  {
   "cell_type": "code",
   "execution_count": 20,
   "metadata": {},
   "outputs": [
    {
     "name": "stdout",
     "output_type": "stream",
     "text": [
      "count         50382\n",
      "unique            3\n",
      "top       automatic\n",
      "freq          45976\n",
      "Name: transmission, dtype: object\n"
     ]
    }
   ],
   "source": [
    "# Provide summary statistics for the 'transmission' column\n",
    "\n",
    "transmission_summary = df_vehicles['transmission'].describe(include=['object'])\n",
    "\n",
    "print(transmission_summary)"
   ]
  },
  {
   "cell_type": "markdown",
   "metadata": {},
   "source": [
    "# EDA Conclusion\n",
    "\n",
    "Based on the analysis of our dataset of used vehicles for sale, several key findings emerge:\n",
    "\n",
    "Color Preference: The analysis reveals that the most common color among available vehicles is white. This indicates a significant preference for white vehicles among consumers in the market for used cars.\n",
    "\n",
    "Vehicle Type Distribution: The dataset illustrates that SUVs, sedans, and trucks are the most prevalent vehicle types. This suggests that these types of vehicles are in high demand among buyers in the used car market.\n",
    "\n",
    "Manufacturer Dominance: While Ford and Chevrolet emerge as the most common manufacturers, it's notable that they collectively account for only 40% of the top 10 vehicle models. This implies a diverse range of manufacturers catering to consumer preferences and needs.\n",
    "\n",
    "In summary, the analysis highlights the prevailing trends in the used car market, including color preferences, popular vehicle types, and the distribution of manufacturers. These insights can inform decision-making processes for stakeholders in the automotive industry, from manufacturers to dealerships and consumers alike."
   ]
  }
 ],
 "metadata": {
  "kernelspec": {
   "display_name": "myenv",
   "language": "python",
   "name": "python3"
  },
  "language_info": {
   "codemirror_mode": {
    "name": "ipython",
    "version": 3
   },
   "file_extension": ".py",
   "mimetype": "text/x-python",
   "name": "python",
   "nbconvert_exporter": "python",
   "pygments_lexer": "ipython3",
   "version": "3.12.3"
  }
 },
 "nbformat": 4,
 "nbformat_minor": 2
}
